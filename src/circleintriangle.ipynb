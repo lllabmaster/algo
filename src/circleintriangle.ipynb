{
 "cells": [
  {
   "cell_type": "code",
   "execution_count": 41,
   "metadata": {
    "collapsed": true
   },
   "outputs": [],
   "source": [
    "import os\n",
    "import sys\n",
    "import numpy as np\n",
    "import pandas as pd\n",
    "import math\n",
    "import random"
   ]
  },
  {
   "cell_type": "code",
   "execution_count": 61,
   "metadata": {
    "collapsed": false
   },
   "outputs": [],
   "source": [
    "def get_center_of_circle(point0, point1, point2):\n",
    "    '''\n",
    "    获得三个点的圆心\n",
    "    '''\n",
    "    coefficient = np.array([[point1[0] - point0[0], point1[1] - point0[1]], \n",
    "                        [point2[0] - point1[0], point2[1] - point1[1]]])\n",
    "\n",
    "    label = 0.5 * np.array([[math.pow(point1[0], 2) - math.pow(point0[0],2) \n",
    "                   + math.pow(point1[1], 2) - math.pow(point0[1], 2)],\n",
    "                  [math.pow(point2[0], 2) - math.pow(point1[0],2) \n",
    "                   + math.pow(point2[1], 2) - math.pow(point1[1], 2)]]\n",
    "                )\n",
    "    try:\n",
    "        t = (np.asmatrix(np.linalg.inv(coefficient)) * label).tolist()\n",
    "        x = t[0][0]\n",
    "        y = t[1][0]\n",
    "        r = math.sqrt(math.pow(x - point0[0], 2) + math.pow(y - point0[1], 2))\n",
    "    except:\n",
    "        [x, y, r] = [-1.0, -1.0, -1.0]\n",
    "    return (x, y, r)\n",
    "\n",
    "def get_random_point():\n",
    "    x = random.random()\n",
    "    y = (1.0 - x) * random.random()\n",
    "    return (x, y)\n",
    "    \n",
    "def get_random_points():\n",
    "    '''\n",
    "    获得随机的三个点\n",
    "    '''\n",
    "    return (get_random_point(), get_random_point(), get_random_point())\n",
    "\n",
    "def check_in_triangle(points):\n",
    "    [x, y , r] = get_center_of_circle(points[0] ,points[1], points[2])\n",
    "    if r > x or r > y or r < 0.0:\n",
    "        return 0.0\n",
    "    elif r > abs(x + y - 1) / math.sqrt(2.0) :\n",
    "        return 0.0\n",
    "    else:\n",
    "        return 1.0\n",
    "        \n",
    "    "
   ]
  },
  {
   "cell_type": "code",
   "execution_count": 111,
   "metadata": {
    "collapsed": false
   },
   "outputs": [
    {
     "name": "stdout",
     "output_type": "stream",
     "text": [
      "(0.3868934722757209, -0.1047300540957192, 0.5172589651297765)\n",
      "0.0\n"
     ]
    }
   ],
   "source": [
    "points = get_random_points()\n",
    "print(get_center_of_circle(points[0] ,points[1], points[2]))\n",
    "print(check_in_triangle(points))"
   ]
  },
  {
   "cell_type": "code",
   "execution_count": null,
   "metadata": {
    "collapsed": false
   },
   "outputs": [
    {
     "name": "stdout",
     "output_type": "stream",
     "text": [
      "acc: 0.062633310523979474\r"
     ]
    }
   ],
   "source": [
    "count =100000000\n",
    "acc = 0.0\n",
    "for i in range(count):\n",
    "    points = get_random_points()\n",
    "    acc += check_in_triangle(points)\n",
    "    sys.stdout.write( 'acc: ' + str(acc / (i + 1)) +'\\r')"
   ]
  }
 ],
 "metadata": {
  "kernelspec": {
   "display_name": "Python 3",
   "language": "python",
   "name": "python3"
  },
  "language_info": {
   "codemirror_mode": {
    "name": "ipython",
    "version": 3
   },
   "file_extension": ".py",
   "mimetype": "text/x-python",
   "name": "python",
   "nbconvert_exporter": "python",
   "pygments_lexer": "ipython3",
   "version": "3.6.0"
  }
 },
 "nbformat": 4,
 "nbformat_minor": 0
}
